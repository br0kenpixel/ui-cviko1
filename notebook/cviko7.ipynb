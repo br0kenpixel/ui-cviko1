{
 "cells": [
  {
   "cell_type": "code",
   "execution_count": 1,
   "metadata": {},
   "outputs": [
    {
     "name": "stdout",
     "output_type": "stream",
     "text": [
      "Requirement already satisfied: pytholog in /home/br0kenpixel/Documents/ui-cviko1/lib64/python3.13/site-packages (2.4.1)\n",
      "Requirement already satisfied: more-itertools in /home/br0kenpixel/Documents/ui-cviko1/lib64/python3.13/site-packages (from pytholog) (10.6.0)\n",
      "\n",
      "\u001b[1m[\u001b[0m\u001b[34;49mnotice\u001b[0m\u001b[1;39;49m]\u001b[0m\u001b[39;49m A new release of pip is available: \u001b[0m\u001b[31;49m24.2\u001b[0m\u001b[39;49m -> \u001b[0m\u001b[32;49m25.0.1\u001b[0m\n",
      "\u001b[1m[\u001b[0m\u001b[34;49mnotice\u001b[0m\u001b[1;39;49m]\u001b[0m\u001b[39;49m To update, run: \u001b[0m\u001b[32;49mpip install --upgrade pip\u001b[0m\n",
      "Note: you may need to restart the kernel to use updated packages.\n"
     ]
    }
   ],
   "source": [
    "%pip install pytholog"
   ]
  },
  {
   "cell_type": "code",
   "execution_count": 2,
   "metadata": {},
   "outputs": [
    {
     "name": "stdout",
     "output_type": "stream",
     "text": [
      "Requirement already satisfied: numpy in /home/br0kenpixel/Documents/ui-cviko1/lib64/python3.13/site-packages (2.2.4)\n",
      "\n",
      "\u001b[1m[\u001b[0m\u001b[34;49mnotice\u001b[0m\u001b[1;39;49m]\u001b[0m\u001b[39;49m A new release of pip is available: \u001b[0m\u001b[31;49m24.2\u001b[0m\u001b[39;49m -> \u001b[0m\u001b[32;49m25.0.1\u001b[0m\n",
      "\u001b[1m[\u001b[0m\u001b[34;49mnotice\u001b[0m\u001b[1;39;49m]\u001b[0m\u001b[39;49m To update, run: \u001b[0m\u001b[32;49mpip install --upgrade pip\u001b[0m\n",
      "Note: you may need to restart the kernel to use updated packages.\n"
     ]
    }
   ],
   "source": [
    "%pip install numpy"
   ]
  },
  {
   "cell_type": "code",
   "execution_count": 3,
   "metadata": {},
   "outputs": [
    {
     "name": "stdout",
     "output_type": "stream",
     "text": [
      "Requirement already satisfied: matplotlib in /home/br0kenpixel/Documents/ui-cviko1/lib64/python3.13/site-packages (3.10.1)\n",
      "Requirement already satisfied: contourpy>=1.0.1 in /home/br0kenpixel/Documents/ui-cviko1/lib64/python3.13/site-packages (from matplotlib) (1.3.1)\n",
      "Requirement already satisfied: cycler>=0.10 in /home/br0kenpixel/Documents/ui-cviko1/lib64/python3.13/site-packages (from matplotlib) (0.12.1)\n",
      "Requirement already satisfied: fonttools>=4.22.0 in /home/br0kenpixel/Documents/ui-cviko1/lib64/python3.13/site-packages (from matplotlib) (4.56.0)\n",
      "Requirement already satisfied: kiwisolver>=1.3.1 in /home/br0kenpixel/Documents/ui-cviko1/lib64/python3.13/site-packages (from matplotlib) (1.4.8)\n",
      "Requirement already satisfied: numpy>=1.23 in /home/br0kenpixel/Documents/ui-cviko1/lib64/python3.13/site-packages (from matplotlib) (2.2.4)\n",
      "Requirement already satisfied: packaging>=20.0 in /home/br0kenpixel/Documents/ui-cviko1/lib64/python3.13/site-packages (from matplotlib) (24.2)\n",
      "Requirement already satisfied: pillow>=8 in /home/br0kenpixel/Documents/ui-cviko1/lib64/python3.13/site-packages (from matplotlib) (11.1.0)\n",
      "Requirement already satisfied: pyparsing>=2.3.1 in /home/br0kenpixel/Documents/ui-cviko1/lib64/python3.13/site-packages (from matplotlib) (3.2.3)\n",
      "Requirement already satisfied: python-dateutil>=2.7 in /home/br0kenpixel/Documents/ui-cviko1/lib64/python3.13/site-packages (from matplotlib) (2.9.0.post0)\n",
      "Requirement already satisfied: six>=1.5 in /home/br0kenpixel/Documents/ui-cviko1/lib64/python3.13/site-packages (from python-dateutil>=2.7->matplotlib) (1.17.0)\n",
      "\n",
      "\u001b[1m[\u001b[0m\u001b[34;49mnotice\u001b[0m\u001b[1;39;49m]\u001b[0m\u001b[39;49m A new release of pip is available: \u001b[0m\u001b[31;49m24.2\u001b[0m\u001b[39;49m -> \u001b[0m\u001b[32;49m25.0.1\u001b[0m\n",
      "\u001b[1m[\u001b[0m\u001b[34;49mnotice\u001b[0m\u001b[1;39;49m]\u001b[0m\u001b[39;49m To update, run: \u001b[0m\u001b[32;49mpip install --upgrade pip\u001b[0m\n",
      "Note: you may need to restart the kernel to use updated packages.\n"
     ]
    }
   ],
   "source": [
    "%pip install matplotlib"
   ]
  },
  {
   "cell_type": "code",
   "execution_count": 5,
   "metadata": {},
   "outputs": [],
   "source": [
    "import numpy as np\n",
    "from numpy import array"
   ]
  },
  {
   "cell_type": "code",
   "execution_count": 6,
   "metadata": {},
   "outputs": [],
   "source": [
    "A = \"\"\"\n",
    ".XXX.\n",
    "X...X\n",
    "XXXXX\n",
    "X...X\n",
    "X...X\n",
    "\"\"\"\n",
    "T = \"\"\"\n",
    "XXXXX\n",
    "..X..\n",
    "..X..\n",
    "..X..\n",
    "..X..\n",
    "\"\"\"\n",
    "\n",
    "E = \"\"\"\n",
    "XXXXX\n",
    "X....\n",
    "XXX..\n",
    "X....\n",
    "XXXXX\n",
    "\"\"\""
   ]
  },
  {
   "cell_type": "code",
   "execution_count": 7,
   "metadata": {},
   "outputs": [],
   "source": [
    "def to_vector(letter):\n",
    "    return array([+1 if c=='X' else 0 for c in letter.replace('\\n','')])"
   ]
  },
  {
   "cell_type": "code",
   "execution_count": 8,
   "metadata": {},
   "outputs": [],
   "source": [
    "a_vec = to_vector(A)\n",
    "t_vec = to_vector(T)\n",
    "e_vec = to_vector(E)"
   ]
  },
  {
   "cell_type": "code",
   "execution_count": 9,
   "metadata": {},
   "outputs": [],
   "source": [
    "def display(pattern):\n",
    "    from pylab import imshow, cm, show\n",
    "    imshow(pattern.reshape((5,5)),cmap=cm.binary, interpolation='nearest')\n",
    "    show()"
   ]
  },
  {
   "cell_type": "code",
   "execution_count": 10,
   "metadata": {},
   "outputs": [],
   "source": [
    "new_char = \"\"\"\n",
    "..X..\n",
    ".X.X.\n",
    "X...X\n",
    "XXXXX\n",
    "X...X\n",
    "\"\"\""
   ]
  },
  {
   "cell_type": "code",
   "execution_count": 14,
   "metadata": {},
   "outputs": [
    {
     "data": {
      "text/plain": [
       "array([0, 0, 1, 0, 0, 0, 1, 0, 1, 0, 1, 0, 0, 0, 1, 1, 1, 1, 1, 1, 1, 0,\n",
       "       0, 0, 1])"
      ]
     },
     "execution_count": 14,
     "metadata": {},
     "output_type": "execute_result"
    }
   ],
   "source": [
    "new_vec = to_vector(new_char)\n",
    "new_vec"
   ]
  },
  {
   "cell_type": "code",
   "execution_count": 12,
   "metadata": {},
   "outputs": [],
   "source": [
    "def histogram(pattern):\n",
    "  h = np.array([0, 0, 0, 0, 0])\n",
    "  row = 0\n",
    "  for ch in pattern:\n",
    "    if row < 5:\n",
    "      row = row + 1\n",
    "    else:\n",
    "      row = 1\n",
    "    if ch == 1:\n",
    "        h[row-1] = h[row-1] + 1\n",
    "  #  print(row,' - ', ch)\n",
    "  return h"
   ]
  },
  {
   "cell_type": "code",
   "execution_count": 13,
   "metadata": {},
   "outputs": [],
   "source": [
    "#alternative\n",
    "def histogram(pattern):\n",
    "    pattern = np.array(pattern).reshape(5, 5)\n",
    "    return np.sum(pattern, axis=0)"
   ]
  },
  {
   "cell_type": "code",
   "execution_count": 16,
   "metadata": {},
   "outputs": [
    {
     "data": {
      "text/plain": [
       "array([[0, 0, 1, 0, 0],\n",
       "       [0, 1, 0, 1, 0],\n",
       "       [1, 0, 0, 0, 1],\n",
       "       [1, 1, 1, 1, 1],\n",
       "       [1, 0, 0, 0, 1]])"
      ]
     },
     "execution_count": 16,
     "metadata": {},
     "output_type": "execute_result"
    }
   ],
   "source": [
    "np.array(new_vec).reshape(5, 5)"
   ]
  },
  {
   "cell_type": "code",
   "execution_count": 17,
   "metadata": {},
   "outputs": [
    {
     "data": {
      "text/plain": [
       "array([3, 2, 2, 2, 3])"
      ]
     },
     "execution_count": 17,
     "metadata": {},
     "output_type": "execute_result"
    }
   ],
   "source": [
    "histogram(new_vec)"
   ]
  },
  {
   "cell_type": "code",
   "execution_count": 19,
   "metadata": {},
   "outputs": [],
   "source": [
    "from scipy.spatial import distance"
   ]
  },
  {
   "cell_type": "code",
   "execution_count": 25,
   "metadata": {},
   "outputs": [
    {
     "name": "stdout",
     "output_type": "stream",
     "text": [
      "a: 1.4142135623730951 , t: 4.358898943540674 , e: 2.6457513110645907\n"
     ]
    }
   ],
   "source": [
    "dst_a = distance.euclidean(histogram(new_vec), histogram(a_vec))\n",
    "dst_t = distance.euclidean(histogram(new_vec), histogram(t_vec))\n",
    "dst_e = distance.euclidean(histogram(new_vec), histogram(e_vec))\n",
    "print('a:',dst_a,', t:',dst_t,', e:',dst_e)"
   ]
  },
  {
   "cell_type": "code",
   "execution_count": 26,
   "metadata": {},
   "outputs": [],
   "source": [
    "#alternative\n",
    "def vertical_histogram(pattern):\n",
    "    pattern = np.array(pattern).reshape(5, 5)\n",
    "    return np.sum(pattern, axis=1)"
   ]
  },
  {
   "cell_type": "code",
   "execution_count": 27,
   "metadata": {},
   "outputs": [
    {
     "name": "stdout",
     "output_type": "stream",
     "text": [
      "a: 4.69041575982343 , t: 5.916079783099616 , e: 6.557438524302\n"
     ]
    }
   ],
   "source": [
    "dst_a = distance.euclidean(vertical_histogram(new_vec), vertical_histogram(a_vec))\n",
    "dst_t = distance.euclidean(vertical_histogram(new_vec), vertical_histogram(t_vec))\n",
    "dst_e = distance.euclidean(vertical_histogram(new_vec), vertical_histogram(e_vec))\n",
    "print('a:',dst_a,', t:',dst_t,', e:',dst_e)"
   ]
  },
  {
   "cell_type": "code",
   "execution_count": 32,
   "metadata": {},
   "outputs": [],
   "source": [
    "import matplotlib.pyplot as plt"
   ]
  },
  {
   "cell_type": "code",
   "execution_count": 34,
   "metadata": {},
   "outputs": [
    {
     "data": {
      "text/plain": [
       "array([[[1.        , 0.43137255, 0.00784314],\n",
       "        [1.        , 0.43529412, 0.00784314],\n",
       "        [1.        , 0.43137255, 0.00784314],\n",
       "        ...,\n",
       "        [1.        , 0.42745098, 0.        ],\n",
       "        [1.        , 0.42745098, 0.        ],\n",
       "        [1.        , 0.43137255, 0.        ]],\n",
       "\n",
       "       [[1.        , 0.43137255, 0.00784314],\n",
       "        [1.        , 0.43137255, 0.00784314],\n",
       "        [1.        , 0.43137255, 0.00784314],\n",
       "        ...,\n",
       "        [1.        , 0.42745098, 0.        ],\n",
       "        [1.        , 0.42745098, 0.        ],\n",
       "        [1.        , 0.42745098, 0.        ]],\n",
       "\n",
       "       [[1.        , 0.43137255, 0.00784314],\n",
       "        [1.        , 0.43137255, 0.00784314],\n",
       "        [1.        , 0.43137255, 0.00784314],\n",
       "        ...,\n",
       "        [1.        , 0.42745098, 0.        ],\n",
       "        [1.        , 0.42745098, 0.        ],\n",
       "        [1.        , 0.42745098, 0.        ]],\n",
       "\n",
       "       ...,\n",
       "\n",
       "       [[1.        , 0.43137255, 0.00784314],\n",
       "        [1.        , 0.43137255, 0.00784314],\n",
       "        [1.        , 0.43137255, 0.00784314],\n",
       "        ...,\n",
       "        [1.        , 0.42745098, 0.        ],\n",
       "        [1.        , 0.42745098, 0.        ],\n",
       "        [1.        , 0.42745098, 0.        ]],\n",
       "\n",
       "       [[1.        , 0.43137255, 0.00784314],\n",
       "        [1.        , 0.43529412, 0.00784314],\n",
       "        [1.        , 0.43137255, 0.00784314],\n",
       "        ...,\n",
       "        [1.        , 0.42745098, 0.        ],\n",
       "        [1.        , 0.43137255, 0.        ],\n",
       "        [1.        , 0.42745098, 0.        ]],\n",
       "\n",
       "       [[1.        , 0.43137255, 0.00784314],\n",
       "        [1.        , 0.43137255, 0.00784314],\n",
       "        [1.        , 0.43529412, 0.00784314],\n",
       "        ...,\n",
       "        [1.        , 0.42745098, 0.        ],\n",
       "        [1.        , 0.42745098, 0.        ],\n",
       "        [1.        , 0.42745098, 0.        ]]],\n",
       "      shape=(60, 600, 3), dtype=float32)"
      ]
     },
     "execution_count": 34,
     "metadata": {},
     "output_type": "execute_result"
    }
   ],
   "source": [
    "ai_img = plt.imread(\"lesson8_files/ai.png\")\n",
    "ai_img"
   ]
  },
  {
   "cell_type": "code",
   "execution_count": 35,
   "metadata": {},
   "outputs": [
    {
     "data": {
      "text/plain": [
       "<matplotlib.image.AxesImage at 0x7f1bde33e510>"
      ]
     },
     "execution_count": 35,
     "metadata": {},
     "output_type": "execute_result"
    },
    {
     "data": {
      "image/png": "[encoded data removed]",
      "text/plain": [
       "<Figure size 640x480 with 1 Axes>"
      ]
     },
     "metadata": {},
     "output_type": "display_data"
    }
   ],
   "source": [
    "plt.imshow(ai_img)"
   ]
  },
  {
   "cell_type": "code",
   "execution_count": 36,
   "metadata": {},
   "outputs": [
    {
     "data": {
      "image/png": "[encoded data removed]",
      "text/plain": [
       "<Figure size 640x480 with 1 Axes>"
      ]
     },
     "metadata": {},
     "output_type": "display_data"
    }
   ],
   "source": [
    "data_gray = np.mean(ai_img, axis=2)\n",
    "plt.imshow(data_gray, cmap='gray')\n",
    "plt.show()"
   ]
  },
  {
   "cell_type": "code",
   "execution_count": 38,
   "metadata": {},
   "outputs": [
    {
     "name": "stdout",
     "output_type": "stream",
     "text": [
      "Collecting opencv-python\n",
      "  Downloading opencv_python-4.11.0.86-cp37-abi3-manylinux_2_17_x86_64.manylinux2014_x86_64.whl.metadata (20 kB)\n",
      "Requirement already satisfied: numpy>=1.21.2 in /home/br0kenpixel/Documents/ui-cviko1/lib64/python3.13/site-packages (from opencv-python) (2.2.4)\n",
      "Downloading opencv_python-4.11.0.86-cp37-abi3-manylinux_2_17_x86_64.manylinux2014_x86_64.whl (63.0 MB)\n",
      "\u001b[2K   \u001b[90m━━━━━━━━━━━━━━━━━━━━━━━━━━━━━━━━━━━━━━━━\u001b[0m \u001b[32m63.0/63.0 MB\u001b[0m \u001b[31m9.1 MB/s\u001b[0m eta \u001b[36m0:00:00\u001b[0m00:01\u001b[0m00:01\u001b[0m\n",
      "\u001b[?25hInstalling collected packages: opencv-python\n",
      "Successfully installed opencv-python-4.11.0.86\n",
      "\n",
      "\u001b[1m[\u001b[0m\u001b[34;49mnotice\u001b[0m\u001b[1;39;49m]\u001b[0m\u001b[39;49m A new release of pip is available: \u001b[0m\u001b[31;49m24.2\u001b[0m\u001b[39;49m -> \u001b[0m\u001b[32;49m25.0.1\u001b[0m\n",
      "\u001b[1m[\u001b[0m\u001b[34;49mnotice\u001b[0m\u001b[1;39;49m]\u001b[0m\u001b[39;49m To update, run: \u001b[0m\u001b[32;49mpip install --upgrade pip\u001b[0m\n",
      "Note: you may need to restart the kernel to use updated packages.\n"
     ]
    }
   ],
   "source": [
    "%pip install opencv-python"
   ]
  },
  {
   "cell_type": "code",
   "execution_count": 39,
   "metadata": {},
   "outputs": [],
   "source": [
    "import cv2"
   ]
  },
  {
   "cell_type": "code",
   "execution_count": 41,
   "metadata": {},
   "outputs": [],
   "source": [
    "image_src = cv2.imread('lesson8_files/ai.png')\n",
    "image_gray = cv2.cvtColor(image_src, cv2.COLOR_BGR2GRAY)"
   ]
  },
  {
   "cell_type": "code",
   "execution_count": 43,
   "metadata": {},
   "outputs": [
    {
     "data": {
      "text/plain": [
       "<matplotlib.image.AxesImage at 0x7f1bcd56da90>"
      ]
     },
     "execution_count": 43,
     "metadata": {},
     "output_type": "execute_result"
    },
    {
     "data": {
      "image/png": "[encoded data removed]",
      "text/plain": [
       "<Figure size 640x480 with 1 Axes>"
      ]
     },
     "metadata": {},
     "output_type": "display_data"
    }
   ],
   "source": [
    "plt.imshow(image_gray)"
   ]
  },
  {
   "cell_type": "code",
   "execution_count": 44,
   "metadata": {},
   "outputs": [
    {
     "data": {
      "text/plain": [
       "<matplotlib.image.AxesImage at 0x7f1bcd5c5a90>"
      ]
     },
     "execution_count": 44,
     "metadata": {},
     "output_type": "execute_result"
    },
    {
     "data": {
      "image/png": "[encoded data removed]",
      "text/plain": [
       "<Figure size 640x480 with 1 Axes>"
      ]
     },
     "metadata": {},
     "output_type": "display_data"
    }
   ],
   "source": [
    "plt.imshow(image_gray, cmap='gray')"
   ]
  },
  {
   "cell_type": "code",
   "execution_count": 45,
   "metadata": {},
   "outputs": [],
   "source": [
    "thresh_val = 127"
   ]
  },
  {
   "cell_type": "code",
   "execution_count": 46,
   "metadata": {},
   "outputs": [],
   "source": [
    "th, image_b = cv2.threshold(src=image_gray, thresh=thresh_val, maxval=255, type=cv2.THRESH_BINARY)"
   ]
  },
  {
   "cell_type": "code",
   "execution_count": 48,
   "metadata": {},
   "outputs": [
    {
     "data": {
      "text/plain": [
       "<matplotlib.image.AxesImage at 0x7f1bcd15dd10>"
      ]
     },
     "execution_count": 48,
     "metadata": {},
     "output_type": "execute_result"
    },
    {
     "data": {
      "image/png": "[encoded data removed]",
      "text/plain": [
       "<Figure size 640x480 with 1 Axes>"
      ]
     },
     "metadata": {},
     "output_type": "display_data"
    }
   ],
   "source": [
    "plt.imshow(image_b, cmap=\"gray\")"
   ]
  },
  {
   "cell_type": "code",
   "execution_count": 49,
   "metadata": {},
   "outputs": [
    {
     "data": {
      "text/plain": [
       "<matplotlib.image.AxesImage at 0x7f1b6754dd10>"
      ]
     },
     "execution_count": 49,
     "metadata": {},
     "output_type": "execute_result"
    },
    {
     "data": {
      "image/png": "[encoded data removed]",
      "text/plain": [
       "<Figure size 640x480 with 1 Axes>"
      ]
     },
     "metadata": {},
     "output_type": "display_data"
    }
   ],
   "source": [
    "thresh_val = 88\n",
    "th, image_b = cv2.threshold(src=image_gray, thresh=thresh_val, maxval=255, type=cv2.THRESH_BINARY)\n",
    "plt.imshow(image_b, cmap=\"gray\")"
   ]
  },
  {
   "cell_type": "code",
   "execution_count": 50,
   "metadata": {},
   "outputs": [
    {
     "data": {
      "text/plain": [
       "<matplotlib.image.AxesImage at 0x7f1bcd1b4690>"
      ]
     },
     "execution_count": 50,
     "metadata": {},
     "output_type": "execute_result"
    },
    {
     "data": {
      "image/png": "[encoded data removed]",
      "text/plain": [
       "<Figure size 640x480 with 1 Axes>"
      ]
     },
     "metadata": {},
     "output_type": "display_data"
    }
   ],
   "source": [
    "thresh_val = 64\n",
    "th, image_b = cv2.threshold(src=image_gray, thresh=thresh_val, maxval=255, type=cv2.THRESH_BINARY)\n",
    "plt.imshow(image_b, cmap=\"gray\")"
   ]
  },
  {
   "cell_type": "code",
   "execution_count": 51,
   "metadata": {},
   "outputs": [
    {
     "data": {
      "text/plain": [
       "<matplotlib.image.AxesImage at 0x7f1bcd000690>"
      ]
     },
     "execution_count": 51,
     "metadata": {},
     "output_type": "execute_result"
    },
    {
     "data": {
      "image/png": "[encoded data removed]",
      "text/plain": [
       "<Figure size 640x480 with 1 Axes>"
      ]
     },
     "metadata": {},
     "output_type": "display_data"
    }
   ],
   "source": [
    "thresh_val = 96\n",
    "th, image_b = cv2.threshold(src=image_gray, thresh=thresh_val, maxval=255, type=cv2.THRESH_BINARY)\n",
    "plt.imshow(image_b, cmap=\"gray\")"
   ]
  },
  {
   "cell_type": "code",
   "execution_count": 52,
   "metadata": {},
   "outputs": [
    {
     "data": {
      "text/plain": [
       "<matplotlib.image.AxesImage at 0x7f1bcd05c690>"
      ]
     },
     "execution_count": 52,
     "metadata": {},
     "output_type": "execute_result"
    },
    {
     "data": {
      "image/png": "[encoded data removed]",
      "text/plain": [
       "<Figure size 640x480 with 1 Axes>"
      ]
     },
     "metadata": {},
     "output_type": "display_data"
    }
   ],
   "source": [
    "thresh_val = 170\n",
    "th, image_b = cv2.threshold(src=image_gray, thresh=thresh_val, maxval=255, type=cv2.THRESH_BINARY)\n",
    "plt.imshow(image_b, cmap=\"gray\")"
   ]
  },
  {
   "cell_type": "code",
   "execution_count": 53,
   "metadata": {},
   "outputs": [
    {
     "data": {
      "text/plain": [
       "(60, 600)"
      ]
     },
     "execution_count": 53,
     "metadata": {},
     "output_type": "execute_result"
    }
   ],
   "source": [
    "image_b.shape"
   ]
  },
  {
   "cell_type": "code",
   "execution_count": 54,
   "metadata": {},
   "outputs": [],
   "source": [
    "from numpy import asarray"
   ]
  },
  {
   "cell_type": "code",
   "execution_count": 85,
   "metadata": {},
   "outputs": [],
   "source": [
    "numpydata = asarray(image_b)"
   ]
  },
  {
   "cell_type": "code",
   "execution_count": 56,
   "metadata": {},
   "outputs": [
    {
     "data": {
      "text/plain": [
       "(60, 600)"
      ]
     },
     "execution_count": 56,
     "metadata": {},
     "output_type": "execute_result"
    }
   ],
   "source": [
    "numpydata.shape"
   ]
  },
  {
   "cell_type": "code",
   "execution_count": 57,
   "metadata": {},
   "outputs": [
    {
     "data": {
      "text/plain": [
       "np.uint8(0)"
      ]
     },
     "execution_count": 57,
     "metadata": {},
     "output_type": "execute_result"
    }
   ],
   "source": [
    "numpydata[0, 0]"
   ]
  },
  {
   "cell_type": "code",
   "execution_count": 58,
   "metadata": {},
   "outputs": [
    {
     "data": {
      "text/plain": [
       "np.uint8(0)"
      ]
     },
     "execution_count": 58,
     "metadata": {},
     "output_type": "execute_result"
    }
   ],
   "source": [
    "numpydata[5, 500]"
   ]
  },
  {
   "cell_type": "code",
   "execution_count": 59,
   "metadata": {},
   "outputs": [
    {
     "data": {
      "text/plain": [
       "np.uint8(255)"
      ]
     },
     "execution_count": 59,
     "metadata": {},
     "output_type": "execute_result"
    }
   ],
   "source": [
    "numpydata[45, 245]"
   ]
  },
  {
   "cell_type": "code",
   "execution_count": 61,
   "metadata": {},
   "outputs": [],
   "source": [
    "char_a1 = cv2.imread('lesson8_files/a1.png')"
   ]
  },
  {
   "cell_type": "code",
   "execution_count": 62,
   "metadata": {},
   "outputs": [
    {
     "data": {
      "text/plain": [
       "(24, 24, 3)"
      ]
     },
     "execution_count": 62,
     "metadata": {},
     "output_type": "execute_result"
    }
   ],
   "source": [
    "char_a1.shape"
   ]
  },
  {
   "cell_type": "code",
   "execution_count": 63,
   "metadata": {},
   "outputs": [],
   "source": [
    "numpydata = asarray(char_a1)"
   ]
  },
  {
   "cell_type": "code",
   "execution_count": 64,
   "metadata": {},
   "outputs": [
    {
     "data": {
      "text/plain": [
       "array([[[255, 255, 255],\n",
       "        [255, 255, 255],\n",
       "        [255, 255, 255],\n",
       "        ...,\n",
       "        [255, 255, 255],\n",
       "        [255, 255, 255],\n",
       "        [255, 255, 255]],\n",
       "\n",
       "       [[255, 255, 255],\n",
       "        [255, 255, 255],\n",
       "        [255, 255, 255],\n",
       "        ...,\n",
       "        [255, 255, 255],\n",
       "        [255, 255, 255],\n",
       "        [255, 255, 255]],\n",
       "\n",
       "       [[255, 255, 255],\n",
       "        [255, 255, 255],\n",
       "        [255, 255, 255],\n",
       "        ...,\n",
       "        [255, 255, 255],\n",
       "        [255, 255, 255],\n",
       "        [255, 255, 255]],\n",
       "\n",
       "       ...,\n",
       "\n",
       "       [[255, 255, 255],\n",
       "        [223, 223, 223],\n",
       "        [  0,   0,   0],\n",
       "        ...,\n",
       "        [176, 176, 176],\n",
       "        [255, 255, 255],\n",
       "        [255, 255, 255]],\n",
       "\n",
       "       [[255, 255, 255],\n",
       "        [234, 234, 234],\n",
       "        [212, 212, 212],\n",
       "        ...,\n",
       "        [223, 223, 223],\n",
       "        [255, 255, 255],\n",
       "        [255, 255, 255]],\n",
       "\n",
       "       [[255, 255, 255],\n",
       "        [255, 255, 255],\n",
       "        [255, 255, 255],\n",
       "        ...,\n",
       "        [255, 255, 255],\n",
       "        [255, 255, 255],\n",
       "        [255, 255, 255]]], shape=(24, 24, 3), dtype=uint8)"
      ]
     },
     "execution_count": 64,
     "metadata": {},
     "output_type": "execute_result"
    }
   ],
   "source": [
    "numpydata"
   ]
  },
  {
   "cell_type": "code",
   "execution_count": 66,
   "metadata": {},
   "outputs": [],
   "source": [
    "image_gray = cv2.cvtColor(char_a1, cv2.COLOR_BGR2GRAY)"
   ]
  },
  {
   "cell_type": "code",
   "execution_count": 67,
   "metadata": {},
   "outputs": [],
   "source": [
    "thresh_val = 127"
   ]
  },
  {
   "cell_type": "code",
   "execution_count": 68,
   "metadata": {},
   "outputs": [],
   "source": [
    "th, image_b = cv2.threshold(src=image_gray, thresh=thresh_val, maxval=255, type=cv2.THRESH_BINARY)"
   ]
  },
  {
   "cell_type": "code",
   "execution_count": 69,
   "metadata": {},
   "outputs": [],
   "source": [
    "numpydata = asarray(image_b)"
   ]
  },
  {
   "cell_type": "code",
   "execution_count": 71,
   "metadata": {},
   "outputs": [
    {
     "data": {
      "text/plain": [
       "array([[255, 255, 255, 255, 255, 255, 255, 255, 255, 255, 255, 255, 255,\n",
       "        255, 255, 255, 255, 255, 255, 255, 255, 255, 255, 255],\n",
       "       [255, 255, 255, 255, 255, 255, 255, 255, 255,   0,   0,   0,   0,\n",
       "          0, 255, 255, 255, 255, 255, 255, 255, 255, 255, 255],\n",
       "       [255, 255, 255, 255, 255, 255, 255, 255, 255,   0,   0,   0,   0,\n",
       "          0, 255, 255, 255, 255, 255, 255, 255, 255, 255, 255],\n",
       "       [255, 255, 255, 255, 255, 255, 255, 255,   0,   0,   0,   0,   0,\n",
       "          0,   0, 255, 255, 255, 255, 255, 255, 255, 255, 255],\n",
       "       [255, 255, 255, 255, 255, 255, 255, 255,   0,   0,   0,   0,   0,\n",
       "          0,   0, 255, 255, 255, 255, 255, 255, 255, 255, 255],\n",
       "       [255, 255, 255, 255, 255, 255, 255, 255,   0,   0,   0,   0,   0,\n",
       "          0,   0,   0, 255, 255, 255, 255, 255, 255, 255, 255],\n",
       "       [255, 255, 255, 255, 255, 255, 255,   0,   0,   0,   0, 255,   0,\n",
       "          0,   0,   0, 255, 255, 255, 255, 255, 255, 255, 255],\n",
       "       [255, 255, 255, 255, 255, 255, 255,   0,   0,   0,   0, 255,   0,\n",
       "          0,   0,   0, 255, 255, 255, 255, 255, 255, 255, 255],\n",
       "       [255, 255, 255, 255, 255, 255, 255,   0,   0,   0,   0, 255, 255,\n",
       "          0,   0,   0,   0, 255, 255, 255, 255, 255, 255, 255],\n",
       "       [255, 255, 255, 255, 255, 255,   0,   0,   0,   0, 255, 255, 255,\n",
       "          0,   0,   0,   0, 255, 255, 255, 255, 255, 255, 255],\n",
       "       [255, 255, 255, 255, 255, 255,   0,   0,   0,   0, 255, 255, 255,\n",
       "          0,   0,   0,   0, 255, 255, 255, 255, 255, 255, 255],\n",
       "       [255, 255, 255, 255, 255,   0,   0,   0,   0,   0, 255, 255, 255,\n",
       "        255,   0,   0,   0,   0, 255, 255, 255, 255, 255, 255],\n",
       "       [255, 255, 255, 255, 255,   0,   0,   0,   0, 255, 255, 255, 255,\n",
       "        255,   0,   0,   0,   0, 255, 255, 255, 255, 255, 255],\n",
       "       [255, 255, 255, 255, 255,   0,   0,   0,   0, 255, 255, 255, 255,\n",
       "        255,   0,   0,   0,   0, 255, 255, 255, 255, 255, 255],\n",
       "       [255, 255, 255, 255,   0,   0,   0,   0,   0,   0,   0,   0,   0,\n",
       "          0,   0,   0,   0,   0,   0, 255, 255, 255, 255, 255],\n",
       "       [255, 255, 255, 255,   0,   0,   0,   0,   0,   0,   0,   0,   0,\n",
       "          0,   0,   0,   0,   0,   0, 255, 255, 255, 255, 255],\n",
       "       [255, 255, 255, 255,   0,   0,   0,   0,   0,   0,   0,   0,   0,\n",
       "          0,   0,   0,   0,   0,   0,   0, 255, 255, 255, 255],\n",
       "       [255, 255, 255,   0,   0,   0,   0,   0, 255, 255, 255, 255, 255,\n",
       "        255, 255, 255,   0,   0,   0,   0, 255, 255, 255, 255],\n",
       "       [255, 255, 255,   0,   0,   0,   0, 255, 255, 255, 255, 255, 255,\n",
       "        255, 255, 255,   0,   0,   0,   0, 255, 255, 255, 255],\n",
       "       [255, 255, 255,   0,   0,   0,   0, 255, 255, 255, 255, 255, 255,\n",
       "        255, 255, 255,   0,   0,   0,   0,   0, 255, 255, 255],\n",
       "       [255, 255,   0,   0,   0,   0, 255, 255, 255, 255, 255, 255, 255,\n",
       "        255, 255, 255, 255,   0,   0,   0,   0, 255, 255, 255],\n",
       "       [255, 255,   0,   0,   0,   0, 255, 255, 255, 255, 255, 255, 255,\n",
       "        255, 255, 255, 255,   0,   0,   0,   0, 255, 255, 255],\n",
       "       [255, 255, 255, 255, 255, 255, 255, 255, 255, 255, 255, 255, 255,\n",
       "        255, 255, 255, 255, 255, 255, 255, 255, 255, 255, 255],\n",
       "       [255, 255, 255, 255, 255, 255, 255, 255, 255, 255, 255, 255, 255,\n",
       "        255, 255, 255, 255, 255, 255, 255, 255, 255, 255, 255]],\n",
       "      dtype=uint8)"
      ]
     },
     "execution_count": 71,
     "metadata": {},
     "output_type": "execute_result"
    }
   ],
   "source": [
    "numpydata"
   ]
  },
  {
   "cell_type": "code",
   "execution_count": 87,
   "metadata": {},
   "outputs": [],
   "source": [
    "numpydata_original = numpydata"
   ]
  },
  {
   "cell_type": "code",
   "execution_count": 88,
   "metadata": {},
   "outputs": [],
   "source": [
    "# Convert to 1D vector\n",
    "numpydata = numpydata // 255\n",
    "numpydata = numpydata.flatten()\n",
    "numpydata = np.where(numpydata == 0, 1, 0)"
   ]
  },
  {
   "cell_type": "code",
   "execution_count": 89,
   "metadata": {},
   "outputs": [],
   "source": [
    "from pylab import imshow, cm, show"
   ]
  },
  {
   "cell_type": "code",
   "execution_count": 90,
   "metadata": {},
   "outputs": [],
   "source": [
    "def display_image(image):\n",
    "    imshow(image.reshape((24, 24)), cmap=cm.binary, interpolation='nearest')\n",
    "    show()"
   ]
  },
  {
   "cell_type": "code",
   "execution_count": 91,
   "metadata": {},
   "outputs": [
    {
     "data": {
      "image/png": "[encoded data removed]",
      "text/plain": [
       "<Figure size 640x480 with 1 Axes>"
      ]
     },
     "metadata": {},
     "output_type": "display_data"
    }
   ],
   "source": [
    "display_image(numpydata)"
   ]
  },
  {
   "cell_type": "code",
   "execution_count": 92,
   "metadata": {},
   "outputs": [],
   "source": [
    "char_b1 = cv2.imread('lesson8_files/b1.png')\n",
    "char_x1 = cv2.imread('lesson8_files/x1.png')"
   ]
  },
  {
   "cell_type": "code",
   "execution_count": 93,
   "metadata": {},
   "outputs": [],
   "source": [
    "b1_data = asarray(char_b1)\n",
    "x1_data = asarray(char_x1)"
   ]
  },
  {
   "cell_type": "code",
   "execution_count": 94,
   "metadata": {},
   "outputs": [],
   "source": [
    "b1_gray = cv2.cvtColor(char_b1, cv2.COLOR_BGR2GRAY)\n",
    "x1_gray = cv2.cvtColor(char_x1, cv2.COLOR_BGR2GRAY)"
   ]
  },
  {
   "cell_type": "code",
   "execution_count": 95,
   "metadata": {},
   "outputs": [],
   "source": [
    "import numpy as np\n",
    "import matplotlib.pyplot as plt\n",
    "import cv2\n",
    "\n",
    "# 1. Function for converting to grayscale\n",
    "def to_grayscale(path):\n",
    "    return cv2.cvtColor(cv2.imread(path), cv2.COLOR_BGR2GRAY)\n",
    "\n",
    "# 2. Function for binarization\n",
    "def binarize_image(image, thresh_val=127):\n",
    "    _, binary_image = cv2.threshold(src=image, thresh=thresh_val, maxval=255, type=cv2.THRESH_BINARY)\n",
    "    return binary_image\n",
    "\n",
    "# 3. Function for visualization\n",
    "def display_image(image):\n",
    "    from pylab import imshow, cm, show\n",
    "    # Swap 0 with 1 and vice versa\n",
    "    imshow(image.reshape((24, 24)), cmap=cm.binary, interpolation='nearest')\n",
    "    show()"
   ]
  },
  {
   "cell_type": "code",
   "execution_count": 96,
   "metadata": {},
   "outputs": [],
   "source": [
    "image_paths_a = [\"lesson8_fies/a1.png\", \"lesson8_fies/a2.png\", \"lesson8_fies/a3.png\"]\n",
    "image_paths_b = [\"lesson8_fies/b1.png\", \"lesson8_fies/b2.png\", \"lesson8_fies/b3.png\"]\n",
    "image_paths_x = [\"lesson8_fies/x1.png\", \"lesson8_fies/x2.png\", \"lesson8_fies/x3.png\"]\n",
    "\n",
    "def process_group(image_paths):\n",
    "    vectors = []\n",
    "    for i, path in enumerate(image_paths):\n",
    "        # 1. Conversion to grayscale\n",
    "        grayscale_image = to_grayscale(path)\n",
    "\n",
    "        # 2. Binarization\n",
    "        binary_image = binarize_image(grayscale_image, thresh_val=127)\n",
    "\n",
    "        # 3. Convert to 1D vector (0 -> 1, 255 -> 0)\n",
    "        binary_image = binary_image // 255\n",
    "        binary_image = binary_image.flatten()\n",
    "        binary_vector = np.where(binary_image == 0, 1, 0)\n",
    "\n",
    "        # Save the vector to a list\n",
    "        vectors.append(binary_vector)\n",
    "\n",
    "    return vectors"
   ]
  },
  {
   "cell_type": "code",
   "execution_count": 98,
   "metadata": {},
   "outputs": [],
   "source": [
    "# Paths to images\n",
    "image_paths_a = [\"lesson8_files/a1.png\", \"lesson8_files/a2.png\", \"lesson8_files/a3.png\"]\n",
    "image_paths_b = [\"lesson8_files/b1.png\", \"lesson8_files/b2.png\", \"lesson8_files/b3.png\"]\n",
    "image_paths_x = [\"lesson8_files/x1.png\", \"lesson8_files/x2.png\", \"lesson8_files/x3.png\"]\n",
    "\n",
    "image_paths_unk = [\"lesson8_files/unknown_char1.png\", \"lesson8_files/unknown_char2.png\", \"lesson8_files/unknown_char3.png\"]\n",
    "\n",
    "# Processing groups of images\n",
    "vectors_a = process_group(image_paths_a)\n",
    "vectors_b = process_group(image_paths_b)\n",
    "vectors_x = process_group(image_paths_x)\n",
    "\n",
    "vectors_unk = process_group(image_paths_unk)"
   ]
  },
  {
   "cell_type": "code",
   "execution_count": 102,
   "metadata": {},
   "outputs": [],
   "source": [
    "from scipy.spatial import distance\n",
    "\n",
    "def compare_histograms(vectors_unk, vectors_ref, metric=distance.euclidean):\n",
    "    distances = []\n",
    "    for unk_vector in vectors_unk:\n",
    "        unk_distances = [\n",
    "            metric(histogram(unk_vector), histogram(ref_vector))\n",
    "            for ref_vector in vectors_ref\n",
    "        ]\n",
    "        distances.append(unk_distances)\n",
    "    return distances"
   ]
  },
  {
   "cell_type": "code",
   "execution_count": 103,
   "metadata": {},
   "outputs": [
    {
     "ename": "ValueError",
     "evalue": "cannot reshape array of size 576 into shape (5,5)",
     "output_type": "error",
     "traceback": [
      "\u001b[0;31m---------------------------------------------------------------------------\u001b[0m",
      "\u001b[0;31mValueError\u001b[0m                                Traceback (most recent call last)",
      "Cell \u001b[0;32mIn[103], line 2\u001b[0m\n\u001b[1;32m      1\u001b[0m \u001b[38;5;66;03m# Comparison with groups A, B, X\u001b[39;00m\n\u001b[0;32m----> 2\u001b[0m distances_to_a \u001b[38;5;241m=\u001b[39m \u001b[43mcompare_histograms\u001b[49m\u001b[43m(\u001b[49m\u001b[43mvectors_unk\u001b[49m\u001b[43m,\u001b[49m\u001b[43m \u001b[49m\u001b[43mvectors_a\u001b[49m\u001b[43m,\u001b[49m\u001b[43m \u001b[49m\u001b[43mmetric\u001b[49m\u001b[38;5;241;43m=\u001b[39;49m\u001b[43mdistance\u001b[49m\u001b[38;5;241;43m.\u001b[39;49m\u001b[43mcosine\u001b[49m\u001b[43m)\u001b[49m\n\u001b[1;32m      3\u001b[0m distances_to_b \u001b[38;5;241m=\u001b[39m compare_histograms(vectors_unk, vectors_b, metric\u001b[38;5;241m=\u001b[39mdistance\u001b[38;5;241m.\u001b[39mcosine)\n\u001b[1;32m      4\u001b[0m distances_to_x \u001b[38;5;241m=\u001b[39m compare_histograms(vectors_unk, vectors_x, metric\u001b[38;5;241m=\u001b[39mdistance\u001b[38;5;241m.\u001b[39mcosine)\n",
      "Cell \u001b[0;32mIn[102], line 7\u001b[0m, in \u001b[0;36mcompare_histograms\u001b[0;34m(vectors_unk, vectors_ref, metric)\u001b[0m\n\u001b[1;32m      4\u001b[0m distances \u001b[38;5;241m=\u001b[39m []\n\u001b[1;32m      5\u001b[0m \u001b[38;5;28;01mfor\u001b[39;00m unk_vector \u001b[38;5;129;01min\u001b[39;00m vectors_unk:\n\u001b[1;32m      6\u001b[0m     unk_distances \u001b[38;5;241m=\u001b[39m [\n\u001b[0;32m----> 7\u001b[0m         metric(\u001b[43mhistogram\u001b[49m\u001b[43m(\u001b[49m\u001b[43munk_vector\u001b[49m\u001b[43m)\u001b[49m, histogram(ref_vector))\n\u001b[1;32m      8\u001b[0m         \u001b[38;5;28;01mfor\u001b[39;00m ref_vector \u001b[38;5;129;01min\u001b[39;00m vectors_ref\n\u001b[1;32m      9\u001b[0m     ]\n\u001b[1;32m     10\u001b[0m     distances\u001b[38;5;241m.\u001b[39mappend(unk_distances)\n\u001b[1;32m     11\u001b[0m \u001b[38;5;28;01mreturn\u001b[39;00m distances\n",
      "Cell \u001b[0;32mIn[13], line 3\u001b[0m, in \u001b[0;36mhistogram\u001b[0;34m(pattern)\u001b[0m\n\u001b[1;32m      2\u001b[0m \u001b[38;5;28;01mdef\u001b[39;00m\u001b[38;5;250m \u001b[39m\u001b[38;5;21mhistogram\u001b[39m(pattern):\n\u001b[0;32m----> 3\u001b[0m     pattern \u001b[38;5;241m=\u001b[39m \u001b[43mnp\u001b[49m\u001b[38;5;241;43m.\u001b[39;49m\u001b[43marray\u001b[49m\u001b[43m(\u001b[49m\u001b[43mpattern\u001b[49m\u001b[43m)\u001b[49m\u001b[38;5;241;43m.\u001b[39;49m\u001b[43mreshape\u001b[49m\u001b[43m(\u001b[49m\u001b[38;5;241;43m5\u001b[39;49m\u001b[43m,\u001b[49m\u001b[43m \u001b[49m\u001b[38;5;241;43m5\u001b[39;49m\u001b[43m)\u001b[49m\n\u001b[1;32m      4\u001b[0m     \u001b[38;5;28;01mreturn\u001b[39;00m np\u001b[38;5;241m.\u001b[39msum(pattern, axis\u001b[38;5;241m=\u001b[39m\u001b[38;5;241m0\u001b[39m)\n",
      "\u001b[0;31mValueError\u001b[0m: cannot reshape array of size 576 into shape (5,5)"
     ]
    }
   ],
   "source": [
    "# Comparison with groups A, B, X\n",
    "distances_to_a = compare_histograms(vectors_unk, vectors_a, metric=distance.cosine)\n",
    "distances_to_b = compare_histograms(vectors_unk, vectors_b, metric=distance.cosine)\n",
    "distances_to_x = compare_histograms(vectors_unk, vectors_x, metric=distance.cosine)\n",
    "\n",
    "# Output distances\n",
    "print(\"Distances to group A😊\")\n",
    "for i, distances in enumerate(distances_to_a):\n",
    "    print(f\"Unknown {i+1}: {distances}\")\n",
    "\n",
    "print(\"\\nDistances to group B😊\")\n",
    "for i, distances in enumerate(distances_to_b):\n",
    "    print(f\"Unknown {i+1}: {distances}\")\n",
    "\n",
    "print(\"\\nDistances to group X😊\")\n",
    "for i, distances in enumerate(distances_to_x):\n",
    "    print(f\"Unknown {i+1}: {distances}\")"
   ]
  },
  {
   "cell_type": "code",
   "execution_count": null,
   "metadata": {},
   "outputs": [],
   "source": []
  }
 ],
 "metadata": {
  "kernelspec": {
   "display_name": "ui-cviko1",
   "language": "python",
   "name": "python3"
  },
  "language_info": {
   "codemirror_mode": {
    "name": "ipython",
    "version": 3
   },
   "file_extension": ".py",
   "mimetype": "text/x-python",
   "name": "python",
   "nbconvert_exporter": "python",
   "pygments_lexer": "ipython3",
   "version": "3.13.2"
  }
 },
 "nbformat": 4,
 "nbformat_minor": 2
}
